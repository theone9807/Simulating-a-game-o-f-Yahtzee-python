{
 "cells": [
  {
   "cell_type": "code",
   "execution_count": 1,
   "metadata": {},
   "outputs": [],
   "source": [
    "import random  #for using random function\n",
    "from IPython.display import clear_output  \n"
   ]
  },
  {
   "cell_type": "code",
   "execution_count": 50,
   "metadata": {},
   "outputs": [],
   "source": [
    "\n",
    "def roll_dice():\n",
    "    '''Returns 5 randomly rolled dice.'''\n",
    "    dice = []\n",
    "\n",
    "    for i in range(5):\n",
    "        dice += [random.randint(1,6)]\n",
    "        dice = sorted(dice)\n",
    "        dice2 = set(dice)\n",
    "\n",
    "    print('Your roll is: ', *dice)\n",
    " \n",
    "    # reroll dice\n",
    "    count = 0\n",
    "    \n",
    "    #this will alow user to reroll dice 2 more times\n",
    "    while count < 2:                   \n",
    "        reroll = input('Which dice should I roll again?: ')\n",
    "        for i in reroll:\n",
    "            try:\n",
    "                dice[int(i) - 1] = random.randrange(1, 6)\n",
    "            except:\n",
    "                print(\"Error dice number!!!.\")\n",
    "                count -= 1 \n",
    "        print('Your roll is: ', *dice)    # \"*\" used to extract output\n",
    "        count += 1\n",
    "    clear_output()    \n",
    "    print('Your final roll is: ', * dice)\n",
    "    return dice\n",
    "\n"
   ]
  },
  {
   "cell_type": "code",
   "execution_count": 51,
   "metadata": {},
   "outputs": [
    {
     "name": "stdout",
     "output_type": "stream",
     "text": [
      "Your final roll is:  1 1 1 1 1\n",
      "[1, 1, 1, 1, 1]\n"
     ]
    },
    {
     "data": {
      "text/plain": [
       "{1}"
      ]
     },
     "execution_count": 51,
     "metadata": {},
     "output_type": "execute_result"
    }
   ],
   "source": [
    "dice = roll_dice()            # asign the output of a function to a new variable for reuse\n",
    "dice1 = sorted(dice)\n",
    "dice2 = set(dice1)            # set for  unique roll of all the 5 rolled dice \n",
    "print(dice1)\n",
    "dice2"
   ]
  },
  {
   "cell_type": "code",
   "execution_count": 52,
   "metadata": {},
   "outputs": [],
   "source": [
    "def sum_counts(dice1):\n",
    "    ''' adds up the total of the dice, given the frequencies of each value\n",
    "    '''\n",
    "    total = sum(dice1)\n",
    "\n",
    "\n",
    "\n",
    "    return total\n"
   ]
  },
  {
   "cell_type": "code",
   "execution_count": 53,
   "metadata": {},
   "outputs": [
    {
     "data": {
      "text/plain": [
       "5"
      ]
     },
     "execution_count": 53,
     "metadata": {},
     "output_type": "execute_result"
    }
   ],
   "source": [
    "sum_counts(dice1)"
   ]
  },
  {
   "cell_type": "code",
   "execution_count": 39,
   "metadata": {},
   "outputs": [
    {
     "data": {
      "text/plain": [
       "25"
      ]
     },
     "execution_count": 39,
     "metadata": {},
     "output_type": "execute_result"
    }
   ],
   "source": [
    "def three_of_a_kind(dice1):\n",
    "    '''Returns True or False if the dice are three of a kind.'''\n",
    "    threeofkind = 0\n",
    "    if len(dice2) == 3:\n",
    "        threeofkind += 1\n",
    "        return sum_counts(dice1)\n",
    "    else:\n",
    "        return 0\n",
    "    \n",
    "three_of_a_kind(dice1)\n"
   ]
  },
  {
   "cell_type": "code",
   "execution_count": 40,
   "metadata": {},
   "outputs": [
    {
     "data": {
      "text/plain": [
       "0"
      ]
     },
     "execution_count": 40,
     "metadata": {},
     "output_type": "execute_result"
    }
   ],
   "source": [
    "def four_of_a_kind(dice1):\n",
    "    ''' Returns True or False if the dice are four of a kind. '''\n",
    "    fourofkind = 0\n",
    "    if dice1[0] == dice1[-1]:\n",
    "        pass\n",
    "    elif len(dice2) == 2:\n",
    "        if (dice1[0] == dice1[1] and dice1[0] == dice1[3]) or (dice1[1] == dice1[2] and dice1[1] == dice1[4]):\n",
    "            fourofkind += 1\n",
    "            return sum_counts(dice1)\n",
    "    else:\n",
    "        return 0\n",
    "    \n",
    "four_of_a_kind(dice1)"
   ]
  },
  {
   "cell_type": "code",
   "execution_count": 54,
   "metadata": {},
   "outputs": [
    {
     "data": {
      "text/plain": [
       "50"
      ]
     },
     "execution_count": 54,
     "metadata": {},
     "output_type": "execute_result"
    }
   ],
   "source": [
    "def yahtzee(dice1):\n",
    "    ''' returns 50 if all dice are equal, or zero otherwise\n",
    "    '''\n",
    "    if len(dice2) == 1:\n",
    "        return 50\n",
    "\n",
    "    return 0\n",
    "\n",
    "yahtzee(dice1)\n"
   ]
  },
  {
   "cell_type": "code",
   "execution_count": 45,
   "metadata": {},
   "outputs": [
    {
     "data": {
      "text/plain": [
       "0"
      ]
     },
     "execution_count": 45,
     "metadata": {},
     "output_type": "execute_result"
    }
   ],
   "source": [
    "def full_house(dice1):\n",
    "    ''' returns 30 if there are 2 of one number, and 3 of another\n",
    "    '''\n",
    "    if len(dice2) == 2:\n",
    "        if (dice1[0] == dice1[1] ) and (four_of_a_kind(dice1) == 0):\n",
    "            return 30\n",
    "        elif (dice1[-1] == dice1[-2] ) and (four_of_a_kind(dice1) == 0):\n",
    "            return 30\n",
    "    else:\n",
    "        return 0\n",
    "    \n",
    "full_house(dice1)\n"
   ]
  },
  {
   "cell_type": "code",
   "execution_count": 58,
   "metadata": {},
   "outputs": [
    {
     "data": {
      "text/plain": [
       "0"
      ]
     },
     "execution_count": 58,
     "metadata": {},
     "output_type": "execute_result"
    }
   ],
   "source": [
    "def small_straight(dice1):\n",
    "    ''' returns 25 if there are at least 4 consecutive values\n",
    "    '''\n",
    "    if (((dice1[:4] == [1, 2, 3, 4]) or (dice1[:4] == [2, 3, 4, 5]) or (dice1[:4] == [3, 4, 5, 6])) or\n",
    "       ((dice1[1:5] == [1, 2, 3, 4]) or (dice1[1:5] == [2, 3, 4, 5]) or (dice1[1:5] == [3, 4, 5, 6])) or\n",
    "       ((dice1[2:6] == [1, 2, 3, 4]) or (dice1[2:6] == [2, 3, 4, 5]) or (dice1[2:6] == [3, 4, 5, 6]))):\n",
    "        \n",
    "        return 25\n",
    "    else:\n",
    "        return 0\n",
    "    \n",
    "small_straight(dice1)\n"
   ]
  },
  {
   "cell_type": "code",
   "execution_count": 49,
   "metadata": {},
   "outputs": [
    {
     "data": {
      "text/plain": [
       "0"
      ]
     },
     "execution_count": 49,
     "metadata": {},
     "output_type": "execute_result"
    }
   ],
   "source": [
    "def large_straight(dice1):\n",
    "    ''' returns 30 if there are at least 5 consecutive values\n",
    "    '''\n",
    "    if ((dice1 == [1, 2, 3, 4, 5]) or (dice1 == [2, 3, 4, 5, 6])):\n",
    "        return 30\n",
    "    else:\n",
    "        return 0\n",
    "    \n",
    "large_straight(dice1)\n"
   ]
  },
  {
   "cell_type": "code",
   "execution_count": null,
   "metadata": {},
   "outputs": [],
   "source": []
  }
 ],
 "metadata": {
  "kernelspec": {
   "display_name": "Python 3",
   "language": "python",
   "name": "python3"
  },
  "language_info": {
   "codemirror_mode": {
    "name": "ipython",
    "version": 3
   },
   "file_extension": ".py",
   "mimetype": "text/x-python",
   "name": "python",
   "nbconvert_exporter": "python",
   "pygments_lexer": "ipython3",
   "version": "3.6.6"
  }
 },
 "nbformat": 4,
 "nbformat_minor": 2
}
